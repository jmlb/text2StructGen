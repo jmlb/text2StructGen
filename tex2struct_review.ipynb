{
 "cells": [
  {
   "cell_type": "markdown",
   "id": "8572d143-0d7c-4877-a204-96429b7976b4",
   "metadata": {},
   "source": [
    "# ReadMe\n",
    "\n",
    "This notebook demonstrates the process of extracting structured data from unstructured Tesla customer reviews using a open-source LLM. \n",
    "\n",
    "## Table of Contents\n",
    "\n",
    "1. [Required Libraries](#required-libraries)\n",
    "2. [Dataset of Reviews](#dataset-of-reviews)\n",
    "3. [Utilities for Function Calling](#utilities-for-function-calling)\n",
    "4. [Build Inference Chain](#build-inference-chain)\n",
    "5. [Inference on One Example](#inference-on-one-example)\n",
    "6. [Processing All Reviews](#processing-all-reviews)\n",
    "7. [Saving Structured Reviews](#saving-structured-reviews)\n",
    "\n",
    "## Required Libraries\n",
    "\n",
    "%pip install langchain==0.3.0\n",
    "\n",
    "%pip install langchain-community\n",
    "\n",
    "%pip install langchain-core\n",
    "\n",
    "%pip install pydantic"
   ]
  },
  {
   "cell_type": "markdown",
   "id": "a01d49e8-616c-4d0d-96d6-1b7aa6bb26e1",
   "metadata": {},
   "source": [
    "# 1. Required libraries"
   ]
  },
  {
   "cell_type": "code",
   "execution_count": 1,
   "id": "33526888-29c0-4226-9306-cc0b92649fa4",
   "metadata": {},
   "outputs": [],
   "source": [
    "import json\n",
    "import logging\n",
    "import random\n",
    "import pandas as pd\n",
    "from tqdm import tqdm\n",
    "\n",
    "from enum import Enum\n",
    "from langchain_community.llms import Ollama\n",
    "from langchain.tools.render import render_text_description\n",
    "from langchain_core.tools import tool\n",
    "from langchain.prompts import PromptTemplate\n",
    "from langchain_core.prompts import ChatPromptTemplate\n",
    "from pydantic import BaseModel\n",
    "from typing import List, Optional, Union, Dict, Any\n",
    "from langchain_core.output_parsers import JsonOutputParser"
   ]
  },
  {
   "cell_type": "markdown",
   "id": "1467500d-adbd-4f07-b70c-69e2ce39691c",
   "metadata": {},
   "source": [
    "# 2. Dataset of Reviews"
   ]
  },
  {
   "cell_type": "code",
   "execution_count": 2,
   "id": "daec6691-2ba6-4e89-be76-5a4bf4822ddd",
   "metadata": {},
   "outputs": [
    {
     "name": "stdout",
     "output_type": "stream",
     "text": [
      "Dataset shape  (995, 4)\n",
      "Dataset columns  Index(['manufacturer', 'url', 'review', 'review_struct'], dtype='object')\n"
     ]
    },
    {
     "data": {
      "text/plain": [
       "[\"Reviewed: 0       on 08/30/18 15:36 PM (PDT)\\n1       on 07/04/18 17:15 PM (PDT)\\n2       on 06/21/18 05:22 AM (PDT)\\n3       on 04/07/18 15:01 PM (PDT)\\n4       on 12/30/17 21:45 PM (PST)\\n                  ...             \\n135     on 06/30/13 17:27 PM (PDT)\\n136     on 06/13/13 20:30 PM (PDT)\\n137     on 05/20/13 17:43 PM (PDT)\\n138     on 04/14/13 15:47 PM (PDT)\\n139     on 03/09/13 15:39 PM (PST)\\nName: Review_Date, Length: 140, dtype: object\\nrating: 0      5.000\\n1      4.000\\n2      5.000\\n3      4.000\\n4      5.000\\n       ...  \\n135    3.375\\n136    5.000\\n137    4.625\\n138    5.000\\n139    5.000\\nName: Rating, Length: 140, dtype: float64\\nvehicle title: 0      2018 Tesla Model X SUV 75D 4dr SUV AWD (electr...\\n1      2018 Tesla Model X SUV 100D 4dr SUV AWD (elect...\\n2      2017 Tesla Model X SUV 100D 4dr SUV AWD (elect...\\n3      2017 Tesla Model X SUV 100D 4dr SUV AWD (elect...\\n4      2017 Tesla Model X SUV P100D 4dr SUV AWD (elec...\\n                             ...                        \\n135    2013 Tesla Model S Sedan Performance 4dr Sedan...\\n136     2013 Tesla Model S Sedan 4dr Sedan (electric DD)\\n137    2013 Tesla Model S Sedan Performance 4dr Sedan...\\n138    2013 Tesla Model S Sedan Performance 4dr Sedan...\\n139    2013 Tesla Model S Sedan Performance 4dr Sedan...\\nName: Vehicle_Title, Length: 140, dtype: object\\n0      2018 Tesla Model X SUV 75D 4dr SUV AWD (electr...\\n1      2018 Tesla Model X SUV 100D 4dr SUV AWD (elect...\\n2      2017 Tesla Model X SUV 100D 4dr SUV AWD (elect...\\n3      2017 Tesla Model X SUV 100D 4dr SUV AWD (elect...\\n4      2017 Tesla Model X SUV P100D 4dr SUV AWD (elec...\\n                             ...                        \\n135    2013 Tesla Model S Sedan Performance 4dr Sedan...\\n136     2013 Tesla Model S Sedan 4dr Sedan (electric DD)\\n137    2013 Tesla Model S Sedan Performance 4dr Sedan...\\n138    2013 Tesla Model S Sedan Performance 4dr Sedan...\\n139    2013 Tesla Model S Sedan Performance 4dr Sedan...\\nName: Vehicle_Title, Length: 140, dtype: object\\n0       Model X is unique. Either you like be it or h...\\n1       A lot of the existing reviews online, includi...\\n2       Like most consumers, I've owned five differen...\\n3       Owned car for three more months and it had to...\\n4       In the past 12 years I have owned 18 differen...\\n                             ...                        \\n135     my husband accidentally spilled the cooler in...\\n136     This is an initial quality review as we have ...\\n137     I have approximately 7000 miles on this signa...\\n138     I have owned my Model S Performance (P85) for...\\n139     For over 100 years, cars have improved increm...\\nName: Review, Length: 140, dtype: object\",\n",
       " \"Reviewed Nov. 30, 2021\\nI first registered for a Model X in December 2020 at a Tesla dealership. I was told that the car would be available in February 2021. After that the communication went completely downhill. February came and went, zero communication. Some time later the date on my Tesla account was updated to August 21.... That came and went. It's almost December 2021 and we still don't have a car. No one at the dealership has a clue as to when the car will be available. The communication from Tesla has been minimal to none. Yes, Auto dealers across the US have had supply chain issues. But communication from other luxury car companies has been leaps and bounds better than Tesla. I hope Tesla management is getting this feedback. EVs are going to have some serious competition.... And based on Tesla's approach towards customer service (or lack thereof), I am now inclined to wait and purchase an EV from a competitor.\",\n",
       " 'Reviewed Oct. 14, 2021\\nI was at a complete stop awaiting the traffic light to go from red to green when a Range Rover SUV slammed into my back end doing between 50-60 mph. She told the police \"I just wasn\\'t paying attention.\" Needless to say, my Tesla Model 3 was totaled. Her vehicle drove what was left of my trunk all the way into my back seat. My only injuries are minor - bruised hands from the impact of the airbags. Even the insurance adjustor commented on how the impact must have been tremendous. Extremely grateful to Tesla for building such a safe car.',\n",
       " \"Reviewed Nov. 29, 2023\\nI purchased a Tesla Model S with 60k miles in April 2023. 2 months ago, I noticed that my car was starting to lose acceleration & I wasn't able to charge it. I tried to schedule an appointment (through the Tesla app, because you can't speak to someone first) & they informed me that they ran a remote diagnosis & determined that my HV Battery would need to be replaced (it would cost 15k because it was out of warranty). I then asked if I could bring it in so they could make sure the battery was the issue. They said they were sure this was the problem but I could bring it in anyway & have them review it.\\n                                        More\",\n",
       " 'This is not about Tesla cars but…This is not about Tesla cars but customer service.The customer experience at Northampton was very disappointing, I went with 2 other colleagues and the sales people were unprepared, very disorganised with a bit of attitude -\"we are getting paid either way\", after registered 3 times, still unable to find details of registration, very useless and disorganised, very disappointing, expect more from Tesla than this, very disgraceful.Date of experience: September 28, 2023',\n",
       " \"Reviewed Feb. 19, 2024\\nI. Had Tesla model y. 3 year. Always something. Problem. When you fix the car it’s very expensive. But car quality is like 99c. Very bad quality. In car every thing's very Sensitive. Chair. Front. I really don’t like this car. Because quality very. You can’t beat Toyota.\",\n",
       " 'TAKE MY MONEY!TAKE MY MONEY!Trying to buy a Model 3 Performance, called their sales line every day for the last week but it just rings and rings and rings, left it on hold while I was on another call and 30 mins later no answer! Employ people to answer the phone!Date of experience: August 13, 2019',\n",
       " \"Reviewed: 0       on 08/30/18 15:36 PM (PDT)\\n1       on 07/04/18 17:15 PM (PDT)\\n2       on 06/21/18 05:22 AM (PDT)\\n3       on 04/07/18 15:01 PM (PDT)\\n4       on 12/30/17 21:45 PM (PST)\\n                  ...             \\n135     on 06/30/13 17:27 PM (PDT)\\n136     on 06/13/13 20:30 PM (PDT)\\n137     on 05/20/13 17:43 PM (PDT)\\n138     on 04/14/13 15:47 PM (PDT)\\n139     on 03/09/13 15:39 PM (PST)\\nName: Review_Date, Length: 140, dtype: object\\nrating: 0      5.000\\n1      4.000\\n2      5.000\\n3      4.000\\n4      5.000\\n       ...  \\n135    3.375\\n136    5.000\\n137    4.625\\n138    5.000\\n139    5.000\\nName: Rating, Length: 140, dtype: float64\\nvehicle title: 0      2018 Tesla Model X SUV 75D 4dr SUV AWD (electr...\\n1      2018 Tesla Model X SUV 100D 4dr SUV AWD (elect...\\n2      2017 Tesla Model X SUV 100D 4dr SUV AWD (elect...\\n3      2017 Tesla Model X SUV 100D 4dr SUV AWD (elect...\\n4      2017 Tesla Model X SUV P100D 4dr SUV AWD (elec...\\n                             ...                        \\n135    2013 Tesla Model S Sedan Performance 4dr Sedan...\\n136     2013 Tesla Model S Sedan 4dr Sedan (electric DD)\\n137    2013 Tesla Model S Sedan Performance 4dr Sedan...\\n138    2013 Tesla Model S Sedan Performance 4dr Sedan...\\n139    2013 Tesla Model S Sedan Performance 4dr Sedan...\\nName: Vehicle_Title, Length: 140, dtype: object\\n0      2018 Tesla Model X SUV 75D 4dr SUV AWD (electr...\\n1      2018 Tesla Model X SUV 100D 4dr SUV AWD (elect...\\n2      2017 Tesla Model X SUV 100D 4dr SUV AWD (elect...\\n3      2017 Tesla Model X SUV 100D 4dr SUV AWD (elect...\\n4      2017 Tesla Model X SUV P100D 4dr SUV AWD (elec...\\n                             ...                        \\n135    2013 Tesla Model S Sedan Performance 4dr Sedan...\\n136     2013 Tesla Model S Sedan 4dr Sedan (electric DD)\\n137    2013 Tesla Model S Sedan Performance 4dr Sedan...\\n138    2013 Tesla Model S Sedan Performance 4dr Sedan...\\n139    2013 Tesla Model S Sedan Performance 4dr Sedan...\\nName: Vehicle_Title, Length: 140, dtype: object\\n0       Model X is unique. Either you like be it or h...\\n1       A lot of the existing reviews online, includi...\\n2       Like most consumers, I've owned five differen...\\n3       Owned car for three more months and it had to...\\n4       In the past 12 years I have owned 18 differen...\\n                             ...                        \\n135     my husband accidentally spilled the cooler in...\\n136     This is an initial quality review as we have ...\\n137     I have approximately 7000 miles on this signa...\\n138     I have owned my Model S Performance (P85) for...\\n139     For over 100 years, cars have improved increm...\\nName: Review, Length: 140, dtype: object\",\n",
       " \"FALSE ADVERTISEMENT AND A FAILURE TO UPHOLD THE PROMISED CAPABILITIES OF THE VEHICLEI am writing to file a formal complaint against Tesla, regarding a significant issue with my Tesla Model Y 2021, which I purchased inDecember last year. This matter pertains to false advertising and a failure to uphold the promised capabilities of the vehicle. DespiteTesla's advertising and product descriptions promising a range of 330 miles on a full charge, my car has consistently achieved at least40% less than this advertised range. This drastic shortfall has severely impacted the vehicle's usability and the value I derive from it. Ischeduled a service appointment with Tesla. The resolution proposed by the service team was both shocking and unacceptable. Theysuggested that to achieve the advertised range, I would need to disable the vehicle's cameras. This advice is not only impractical but alsonegates one of the key safety features of the car. There was no disclosure at the point of sale that the use of standard vehicle features,such as the cameras, would so drastically reduce the car's range. To suggest disabling a critical feature to achieve the advertisedperformance is misleading and diminishes the value and functionality of the vehicle. Feeling deceived by Tesla, as the product delivereddoes not meet the specifications and capabilities that were advertised, I am seeking a resolution to this matter. I propose the followingoptions: 1-A technical fix to the car that allows it to achieve the advertised 330-mile range without disabling any safety or standardfeatures. 2-Complimentary access to Tesla's Supercharger network 3-A full refund for the vehicle, allowing me to return the car.Date of experience: February 14, 2024\",\n",
       " \"Reviewed Oct. 14, 2020\\nTheir service department reschedule your appointment a last minute without any explanation for another week. There is no phone to contact them. This is second time it is happening to me. I've paid over 100K for this car but I cannot talk to a live person at Tesla at all.\"]"
      ]
     },
     "execution_count": 2,
     "metadata": {},
     "output_type": "execute_result"
    }
   ],
   "source": [
    "reviews = pd.read_csv(\"dataset/tesla_customer_reviews.csv\")\n",
    "\n",
    "print(\"Dataset shape \", reviews.shape)\n",
    "print(\"Dataset columns \", reviews.columns)\n",
    "\n",
    "# shuffle and visualize a few random reviews\n",
    "reviews_indices = reviews.index.tolist()\n",
    "selected_ix = random.choices(reviews_indices, k=10)\n",
    "reviews[\"review\"].loc[selected_ix].tolist()"
   ]
  },
  {
   "cell_type": "markdown",
   "id": "8f3e86ee-e1f5-4fd7-97ec-4f820ab12293",
   "metadata": {},
   "source": [
    "# 3. Utilities for function calling"
   ]
  },
  {
   "cell_type": "code",
   "execution_count": 3,
   "id": "13a3130b-1853-4ea3-bc10-590f4a6c40de",
   "metadata": {},
   "outputs": [],
   "source": [
    "class ModelName(Enum):\n",
    "    \"\"\"\n",
    "    Enumeration of model names for the language model.\n",
    "    \"\"\"\n",
    "    LLAMA3 = \"llama3\"\n",
    "    MISTRAL = \"mistral:7b-instruct-v0.2-q8_0\"\n",
    "    NEXUSRAVEN = \"nexusraven\"\n",
    "    LLAMA31_8B_TOOLS = \"interstellarninja/llama3.1-8b-tools\"\n",
    "    LLAMA3_8B_INSTRUCT_FUNCTION_CALLING = \"smangrul/llama-3-8b-instruct-function-calling\"\n",
    "    LLAMA3_GROQ_TOOLUSE = \"llama3-groq-tool-use\"\n",
    "    LLAMA318B_LATEST = \"llama3.1:latest\"\n",
    "\n",
    "llm = Ollama(model = ModelName.LLAMA3.value, temperature=0, num_predict=600)\n",
    "\n",
    "\n",
    "class RobustJsonOutputParser(JsonOutputParser):\n",
    "    \"\"\"\n",
    "    A robust JSON output parser that extends the JsonOutputParser class.\n",
    "    This parser attempts to handle JSON decoding errors gracefully by extracting\n",
    "    a JSON-like structure from the text if the initial parsing fails.\n",
    "    \"\"\"\n",
    "    def parse(self, text: str) -> Dict[str, Any]:\n",
    "        try:\n",
    "            return super().parse(text)\n",
    "        except json.JSONDecodeError as e:\n",
    "            logging.error(f\"Failed to parse JSON: {e}\")\n",
    "            logging.debug(f\"Problematic text: {text}\")\n",
    "            # Attempt to extract a JSON-like structure from the text\n",
    "            start = text.find('{')\n",
    "            end = text.rfind('}')\n",
    "            if start != -1 and end != -1:\n",
    "                potential_json = text[start:end+1]\n",
    "                try:\n",
    "                    return json.loads(potential_json)\n",
    "                except json.JSONDecodeError:\n",
    "                    pass\n",
    "            # If extraction fails, return a default structure\n",
    "            return {\"name\": \"ReviewStruct\", \"arguments\": {}}\n",
    "\n",
    "\n",
    "def safe_select_arguments(response: dict) -> dict:\n",
    "    \"\"\"\n",
    "    Select and execute the appropriate function based on the response.\n",
    "    The error handling for:\n",
    "        a. Invalid tool names or missing arguments (KeyError).\n",
    "        b. Invalid argument types (TypeError).\n",
    "    In both error cases, it falls back to creating a minimal ReviewStruct with an error message.\n",
    "    Args:\n",
    "        response (dict): A dictionary containing the function name and arguments.\n",
    "    Returns:\n",
    "        dict: The result of executing the specified function with the given arguments.\n",
    "    \"\"\"\n",
    "    try:\n",
    "        return globals()[response[\"name\"]](response[\"arguments\"])\n",
    "    except KeyError as e:\n",
    "        logging.error(f\"Invalid tool name or missing arguments: {e}\")\n",
    "        # Fallback to default ReviewStruct with minimal information\n",
    "        return ReviewStruct(\n",
    "            date_of_review=None,\n",
    "            vehicle_model=None,\n",
    "            customer_rating=None,\n",
    "            review_summary=\"Unable to parse review due to invalid LLM output\")\n",
    "    except TypeError as e:\n",
    "        logging.error(f\"Invalid argument types: {e}\")\n",
    "        # Another fallback option\n",
    "        return ReviewStruct(\n",
    "            date_of_review=None,\n",
    "            vehicle_model=None,\n",
    "            customer_rating=None,\n",
    "            review_summary=\"Unable to parse review due to invalid argument types\")\n",
    "\n",
    "\n",
    "@tool\n",
    "def ReviewStruct(date: Optional[str], \n",
    "            vehicleModel: Optional[str], \n",
    "            customerRating: Optional[Union[str, int]],  # Allow customer_rating to be either str or int\n",
    "            reviewSummary: str,\n",
    "            technicalPros: Optional[List[str]],\n",
    "            otherPros: Optional[List[str]],\n",
    "            technicalIssues: Optional[List[str]],\n",
    "            otherIssues: Optional[List[str]],\n",
    "            serviceExperience: Optional[str],\n",
    "            overallExperience: Optional[str]) -> dict:\n",
    "    \"\"\"Parsing customer review information.\n",
    "    \n",
    "    - date: the date the review was written or posted. The date must be in the format: year-month-day. If not available leave blank. \n",
    "    - vehicleModel: name of the model being reviewed. If not available leave blank\n",
    "    - customerRating: rating of the vehicle_model provided in the review.\n",
    "                       If no rating is provided in the review, estimate the rating based on the content of the review. The estimated rating is a value between 1 and 5 where 1 is exceptional and 5 is exceptional. \n",
    "    - reviewSummary: summary of the review\n",
    "    - technicalPros: A list of specific positive feedbacks related to the car (optional). \n",
    "                    Example: [\"Smooth ride\", \"Great fuel efficiency\"]. If no technical pros found, leave blank.\n",
    "    - otherPros: A list of specific non-technical positive feedbacks related to service.\n",
    "                If no non technical pros found, leave blank.\n",
    "    - technicalIssues: A list of technical issues. Each entry should clearly identify a specific issue related to the working of the car.\n",
    "                     Avoid vague statements and ensure that each entry is concise and focuses on a particular problem. \n",
    "                     If none found, leave blank.\n",
    "    - otherIssues: A list of non-technical issues. \n",
    "                    Each entry should clearly identify a specific issue that is not related to the working of the car.\n",
    "                    If none found, leave blank.\n",
    "    - serviceExperience: service related experience of the customer. The value can be any of the following: \n",
    "                        exceptional|good|average|poor|terrible.\n",
    "    - overallExperience: overall experience of the customer. The value can be any of the following: \n",
    "                        exceptional|good|average|poor|terrible.   \n",
    "    \"\"\"\n",
    "    # Default empty lists if None\n",
    "    if technicalPros is None:\n",
    "        technicalPros = []\n",
    "    if otherPros is None:\n",
    "        otherPros = []\n",
    "    if technicalIssues is None:\n",
    "        technicalIssues = []\n",
    "    if otherIssues is None:\n",
    "        otherIssues = []\n",
    "\n",
    "    return {\"date_of_review\": date, \n",
    "            \"vehicle_model\": vehicleModel, \n",
    "            \"customer_rating\": customerRating, \n",
    "            \"review_summary\": reviewSummary,\n",
    "            \"technical_pros\": technicalPros,\n",
    "            \"other_pros\": otherPros,\n",
    "            \"technical_issues\": technicalIssues,\n",
    "            \"other_issues\": otherIssues,\n",
    "            \"service_experience\": serviceExperience,\n",
    "            \"overall_experience\": overallExperience}"
   ]
  },
  {
   "cell_type": "markdown",
   "id": "1fa73112-d813-4ae0-87e5-d41e26b988b8",
   "metadata": {},
   "source": [
    "# 4. Build inference chain"
   ]
  },
  {
   "cell_type": "code",
   "execution_count": 4,
   "id": "65f1ee25-a104-4d3c-9e31-133c9d66bc96",
   "metadata": {},
   "outputs": [],
   "source": [
    "#####################################################\n",
    "# create a string representation of the tool, which is \n",
    "# similar to how functions are described in standard function calling.\n",
    "#####################################################\n",
    "reviewstruct_tool_as_str = render_text_description([ReviewStruct])\n",
    "\n",
    "\n",
    "#####################################################\n",
    "# Build system prompt and create chat_prompt\n",
    "#####################################################\n",
    "system_prompt = f\"\"\"You are an assistant that has access to the following tools. Here are the name and description of the tool:\n",
    "\n",
    "{reviewstruct_tool_as_str}\n",
    "\n",
    "Given the user input, return the name and input of the tool to use. Return your response as a JSON blob with 'name' and 'arguments' keys. \n",
    "Also make sure to return arguments value as dictionary. Do not return any other text data.\"\"\"\n",
    "\n",
    "prompt = ChatPromptTemplate.from_messages([(\"system\", system_prompt), (\"user\", \"{input}\")])\n",
    "\n",
    "\n",
    "#####################################################\n",
    "# Create the LLM chain\n",
    "#####################################################\n",
    "robust_parser = RobustJsonOutputParser()\n",
    "\n",
    "chain = prompt | llm | robust_parser | safe_select_arguments"
   ]
  },
  {
   "cell_type": "markdown",
   "id": "b963bf44-405e-4576-9f4b-f879582eb6ab",
   "metadata": {},
   "source": [
    "# 5. Inference on 1 example"
   ]
  },
  {
   "cell_type": "code",
   "execution_count": 5,
   "id": "fc44b3e6-f368-4110-9874-1dd0700bb56c",
   "metadata": {},
   "outputs": [
    {
     "name": "stdout",
     "output_type": "stream",
     "text": [
      "Raw customer review (100) \n",
      "\n",
      "Summary after three years of Model S…Summary after three years of Model S Performance ownership. Car is good, software temperamental but tolerable, gimmicks are fun. I will not return to have another Tesla for the foreseeable future due to the dire customer service. I am filled with dread when a warning appears, the virtual assistant is definitely a human rather than a bot as they are unreliable and dishonest. I feel fobbed off. Telephone interaction better but almost impossible to get in touch in the first place. They also do not wash the car when they repair or service it. Not what I expect from the luxury (£100k+) end of the market. BMW next for me, I feel like a valued customer with themDate of experience: September 08, 2023\n",
      "\n",
      "\n",
      "{\n",
      "  \"date_of_review\": \"2023-09-08\",\n",
      "  \"vehicle_model\": \"\",\n",
      "  \"customer_rating\": \"average\",\n",
      "  \"review_summary\": \"Summary after three years of Model S Performance ownership. Car is good, software temperamental but tolerable, gimmicks are fun.\",\n",
      "  \"technical_pros\": [\n",
      "    \"Smooth ride\",\n",
      "    \"Great fuel efficiency\"\n",
      "  ],\n",
      "  \"other_pros\": [],\n",
      "  \"technical_issues\": [\n",
      "    \"software temperamental\"\n",
      "  ],\n",
      "  \"other_issues\": [\n",
      "    \"dire customer service\",\n",
      "    \"unreliable and dishonest virtual assistant\",\n",
      "    \"feeling fobbed off\"\n",
      "  ],\n",
      "  \"service_experience\": \"poor\",\n",
      "  \"overall_experience\": \"terrible\"\n",
      "}\n"
     ]
    },
    {
     "name": "stderr",
     "output_type": "stream",
     "text": [
      "/tmp/ipykernel_31580/2331726774.py:54: LangChainDeprecationWarning: The method `BaseTool.__call__` was deprecated in langchain-core 0.1.47 and will be removed in 1.0. Use invoke instead.\n",
      "  return globals()[response[\"name\"]](response[\"arguments\"])\n"
     ]
    }
   ],
   "source": [
    "# select_ix = random.choice(reviews_indices)  <-- uncomment if you wan tto try random reviews\n",
    "select_ix = 100\n",
    "\n",
    "unstructured_review = reviews.loc[select_ix][\"review\"]\n",
    "print(f\"Raw customer review ({select_ix}) \\n\\n{unstructured_review}\\n\\n\")\n",
    "\n",
    "struct_review = chain.invoke(unstructured_review)\n",
    "\n",
    "print(json.dumps(struct_review, indent=2))"
   ]
  },
  {
   "cell_type": "markdown",
   "id": "9c16f191-6475-4906-b13f-e54ecf2b2d88",
   "metadata": {},
   "source": [
    "# 6. Processing all the reviews"
   ]
  },
  {
   "cell_type": "code",
   "execution_count": 13,
   "id": "eaf267b2-0e16-41a9-9a11-09f3b8452aac",
   "metadata": {},
   "outputs": [
    {
     "name": "stderr",
     "output_type": "stream",
     "text": [
      "100%|█████████████████████████████████████████| 995/995 [23:59<00:00,  1.45s/it]\n"
     ]
    }
   ],
   "source": [
    "def generate_struct_review(r):\n",
    "    # we will save both valid LLM json output and not valid LLM json output\n",
    "    r[\"valid_struct\"] = False\n",
    "    raw_review = r[\"review\"]\n",
    "    try:\n",
    "        result = chain.invoke(raw_review)\n",
    "        r[\"review_struct\"] = result\n",
    "        r[\"valid_struct\"] = True\n",
    "    except Exception as e:\n",
    "        r[\"review_struct\"] = e\n",
    "\n",
    "    return r\n",
    "\n",
    "\n",
    "# get pandas to use tqdm progress\n",
    "tqdm.pandas()\n",
    "\n",
    "reviews = reviews.progress_apply(lambda r: generate_struct_review(r), axis=1)"
   ]
  },
  {
   "cell_type": "markdown",
   "id": "cc190cd3-6e20-40a4-a290-6989a0ff4f7f",
   "metadata": {},
   "source": [
    "# 7. Structured Reviews"
   ]
  },
  {
   "cell_type": "code",
   "execution_count": 14,
   "id": "f46ec23c-288f-4b83-afba-366acc37c36f",
   "metadata": {},
   "outputs": [
    {
     "name": "stdout",
     "output_type": "stream",
     "text": [
      "Number of failed/success \n"
     ]
    },
    {
     "data": {
      "text/plain": [
       "True     801\n",
       "False    194\n",
       "Name: valid_struct, dtype: int64"
      ]
     },
     "execution_count": 14,
     "metadata": {},
     "output_type": "execute_result"
    }
   ],
   "source": [
    "# let's save the structrued reviews:\n",
    "reviews.to_csv(\"dataset/tesla_customer_review_with_structured_data.csv\", index=False)\n",
    "\n",
    "print(\"Number of failed/success \")\n",
    "reviews[\"valid_struct\"].value_counts()"
   ]
  },
  {
   "cell_type": "code",
   "execution_count": 15,
   "id": "d803126a-1b48-4c1c-a4c5-872f7c50a1bb",
   "metadata": {},
   "outputs": [
    {
     "data": {
      "text/html": [
       "<div>\n",
       "<style scoped>\n",
       "    .dataframe tbody tr th:only-of-type {\n",
       "        vertical-align: middle;\n",
       "    }\n",
       "\n",
       "    .dataframe tbody tr th {\n",
       "        vertical-align: top;\n",
       "    }\n",
       "\n",
       "    .dataframe thead th {\n",
       "        text-align: right;\n",
       "    }\n",
       "</style>\n",
       "<table border=\"1\" class=\"dataframe\">\n",
       "  <thead>\n",
       "    <tr style=\"text-align: right;\">\n",
       "      <th></th>\n",
       "      <th>manufacturer</th>\n",
       "      <th>url</th>\n",
       "      <th>review</th>\n",
       "      <th>review_struct</th>\n",
       "      <th>valid_struct</th>\n",
       "    </tr>\n",
       "  </thead>\n",
       "  <tbody>\n",
       "    <tr>\n",
       "      <th>0</th>\n",
       "      <td>tesla</td>\n",
       "      <td>https://www.consumeraffairs.com/automotive/tes...</td>\n",
       "      <td>Reviewed Oct. 26, 2022\\nWe put a deposit down ...</td>\n",
       "      <td>{'date_of_review': 'Oct. 26, 2022', 'vehicle_m...</td>\n",
       "      <td>True</td>\n",
       "    </tr>\n",
       "    <tr>\n",
       "      <th>1</th>\n",
       "      <td>tesla</td>\n",
       "      <td>https://www.consumeraffairs.com/automotive/tes...</td>\n",
       "      <td>Reviewed Dec. 20, 2019\\nI ordered a model 3 SR...</td>\n",
       "      <td>{'date_of_review': '2019-12-20', 'vehicle_mode...</td>\n",
       "      <td>True</td>\n",
       "    </tr>\n",
       "    <tr>\n",
       "      <th>2</th>\n",
       "      <td>tesla</td>\n",
       "      <td>https://www.trustpilot.com/review/tesla.com?pa...</td>\n",
       "      <td>Best car i have ever ownedBest car i have ever...</td>\n",
       "      <td>{'date_of_review': '2024-03-06', 'vehicle_mode...</td>\n",
       "      <td>True</td>\n",
       "    </tr>\n",
       "    <tr>\n",
       "      <th>3</th>\n",
       "      <td>tesla</td>\n",
       "      <td>https://www.consumeraffairs.com/automotive/tes...</td>\n",
       "      <td>Reviewed Aug. 15, 2022\\nHorrible customer serv...</td>\n",
       "      <td>{'date_of_review': '2022-08-15', 'vehicle_mode...</td>\n",
       "      <td>True</td>\n",
       "    </tr>\n",
       "    <tr>\n",
       "      <th>4</th>\n",
       "      <td>tesla</td>\n",
       "      <td>https://www.consumeraffairs.com/automotive/tes...</td>\n",
       "      <td>Reviewed March 29, 2022\\nI bought my 2013 Mode...</td>\n",
       "      <td>{'date_of_review': '2022-03-29', 'vehicle_mode...</td>\n",
       "      <td>True</td>\n",
       "    </tr>\n",
       "  </tbody>\n",
       "</table>\n",
       "</div>"
      ],
      "text/plain": [
       "  manufacturer                                                url  \\\n",
       "0        tesla  https://www.consumeraffairs.com/automotive/tes...   \n",
       "1        tesla  https://www.consumeraffairs.com/automotive/tes...   \n",
       "2        tesla  https://www.trustpilot.com/review/tesla.com?pa...   \n",
       "3        tesla  https://www.consumeraffairs.com/automotive/tes...   \n",
       "4        tesla  https://www.consumeraffairs.com/automotive/tes...   \n",
       "\n",
       "                                              review  \\\n",
       "0  Reviewed Oct. 26, 2022\\nWe put a deposit down ...   \n",
       "1  Reviewed Dec. 20, 2019\\nI ordered a model 3 SR...   \n",
       "2  Best car i have ever ownedBest car i have ever...   \n",
       "3  Reviewed Aug. 15, 2022\\nHorrible customer serv...   \n",
       "4  Reviewed March 29, 2022\\nI bought my 2013 Mode...   \n",
       "\n",
       "                                       review_struct  valid_struct  \n",
       "0  {'date_of_review': 'Oct. 26, 2022', 'vehicle_m...          True  \n",
       "1  {'date_of_review': '2019-12-20', 'vehicle_mode...          True  \n",
       "2  {'date_of_review': '2024-03-06', 'vehicle_mode...          True  \n",
       "3  {'date_of_review': '2022-08-15', 'vehicle_mode...          True  \n",
       "4  {'date_of_review': '2022-03-29', 'vehicle_mode...          True  "
      ]
     },
     "execution_count": 15,
     "metadata": {},
     "output_type": "execute_result"
    }
   ],
   "source": [
    "reviews.head()"
   ]
  }
 ],
 "metadata": {
  "kernelspec": {
   "display_name": "Python 3 (ipykernel)",
   "language": "python",
   "name": "python3"
  },
  "language_info": {
   "codemirror_mode": {
    "name": "ipython",
    "version": 3
   },
   "file_extension": ".py",
   "mimetype": "text/x-python",
   "name": "python",
   "nbconvert_exporter": "python",
   "pygments_lexer": "ipython3",
   "version": "3.10.12"
  }
 },
 "nbformat": 4,
 "nbformat_minor": 5
}
